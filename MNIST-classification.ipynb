{
 "cells": [
  {
   "cell_type": "code",
   "execution_count": 9,
   "metadata": {},
   "outputs": [
    {
     "name": "stdout",
     "output_type": "stream",
     "text": [
      "   label  pixel1  pixel2  pixel3  pixel4  pixel5  pixel6  pixel7  pixel8  \\\n",
      "0      2       0       0       0       0       0       0       0       0   \n",
      "1      9       0       0       0       0       0       0       0       0   \n",
      "2      6       0       0       0       0       0       0       0       5   \n",
      "3      0       0       0       0       1       2       0       0       0   \n",
      "4      3       0       0       0       0       0       0       0       0   \n",
      "\n",
      "   pixel9  ...  pixel775  pixel776  pixel777  pixel778  pixel779  pixel780  \\\n",
      "0       0  ...         0         0         0         0         0         0   \n",
      "1       0  ...         0         0         0         0         0         0   \n",
      "2       0  ...         0         0         0        30        43         0   \n",
      "3       0  ...         3         0         0         0         0         1   \n",
      "4       0  ...         0         0         0         0         0         0   \n",
      "\n",
      "   pixel781  pixel782  pixel783  pixel784  \n",
      "0         0         0         0         0  \n",
      "1         0         0         0         0  \n",
      "2         0         0         0         0  \n",
      "3         0         0         0         0  \n",
      "4         0         0         0         0  \n",
      "\n",
      "[5 rows x 785 columns]\n"
     ]
    }
   ],
   "source": [
    "import pandas as pd\n",
    "\n",
    "dfPath = r'fashion-mnist_train.csv'\n",
    "trainData = pd.read_csv(dfPath)\n",
    "dfPath = r'fashion-mnist_test.csv'\n",
    "testData = pd.read_csv(dfPath)\n",
    "print(trainData.head())\n",
    "# checking how the data looks"
   ]
  },
  {
   "cell_type": "code",
   "execution_count": 10,
   "metadata": {},
   "outputs": [
    {
     "name": "stdout",
     "output_type": "stream",
     "text": [
      "Number of rows with null values: 0\n",
      "Number of duplicate rows:  43\n"
     ]
    }
   ],
   "source": [
    "# Check if any rows have null values\n",
    "null_rows = trainData.isnull().any(axis=1)\n",
    "print('Number of rows with null values:', sum(null_rows))\n",
    "#  There were no null values\n",
    "\n",
    "# Check if there is any duplicate rows\n",
    "duplicate_rows = trainData[trainData.duplicated()]\n",
    "print(\"Number of duplicate rows: \", len(duplicate_rows))\n"
   ]
  },
  {
   "cell_type": "code",
   "execution_count": 12,
   "metadata": {},
   "outputs": [
    {
     "name": "stdout",
     "output_type": "stream",
     "text": [
      "Number of duplicate rows:  0\n"
     ]
    }
   ],
   "source": [
    "# getting rid of duplicate rows\n",
    "trainData = trainData.drop_duplicates()\n",
    "\n",
    "# Check if problem is solved\n",
    "duplicate_rows = trainData[trainData.duplicated()]\n",
    "print(\"Number of duplicate rows: \", len(duplicate_rows))"
   ]
  },
  {
   "cell_type": "code",
   "execution_count": 13,
   "metadata": {},
   "outputs": [],
   "source": [
    "X_train = trainData.drop(columns=['label'])\n",
    "y_train = trainData['label']\n",
    "X_test = testData.drop(columns=['label'])\n",
    "y_test = testData['label']"
   ]
  }
 ],
 "metadata": {
  "kernelspec": {
   "display_name": "Python 3",
   "language": "python",
   "name": "python3"
  },
  "language_info": {
   "codemirror_mode": {
    "name": "ipython",
    "version": 3
   },
   "file_extension": ".py",
   "mimetype": "text/x-python",
   "name": "python",
   "nbconvert_exporter": "python",
   "pygments_lexer": "ipython3",
   "version": "3.9.1"
  }
 },
 "nbformat": 4,
 "nbformat_minor": 4
}
